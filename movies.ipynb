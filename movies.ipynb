{
 "cells": [
  {
   "cell_type": "code",
   "execution_count": 36,
   "metadata": {},
   "outputs": [],
   "source": [
    "#import numpy and pandas, and DataFrame / Series\n",
    "import pandas as pd\n",
    "import numpy as np\n",
    "from sklearn import preprocessing\n",
    "from sklearn.preprocessing import Normalizer\n",
    "from pandas import DataFrame, Series\n",
    "\n",
    "#inline graphics\n",
    "%matplotlib inline"
   ]
  },
  {
   "cell_type": "code",
   "execution_count": 37,
   "metadata": {},
   "outputs": [
    {
     "name": "stdout",
     "output_type": "stream",
     "text": [
      "     Names  Inside_Out  Cars_1  Walle  Spiderman  Monsters_Inc\n",
      "0     Juan         5.0     5.0    5.0        NaN           3.0\n",
      "1    Jacob         5.0     4.0    5.0        NaN           4.0\n",
      "2  Matthew         5.0     3.0    NaN        3.0           4.0\n",
      "3  Claudia         NaN     4.0    4.0        4.0           4.0\n",
      "4     Luis         4.0     3.0    5.0        5.0           NaN\n"
     ]
    }
   ],
   "source": [
    "#Read data from file 'movies.csv'\n",
    "data = pd.read_csv(\"C:/Users/KATERINE/Documents/cuny classes/DATA ACQ AND MANAGEM/week7/movies.csv\", encoding='latin-1', dtype={'Inside_Out':float, 'Cars_1':float, 'Walle':float, 'Spiderman':float, 'Monsters_Inc':float})\n",
    "#df = pd.DataFrame(data, columns= ['Names','Inside_Out', 'Cars_1', 'Walle','Spiderman', 'Monsters_Inc'])\n",
    "print(data)"
   ]
  },
  {
   "cell_type": "code",
   "execution_count": 38,
   "metadata": {},
   "outputs": [
    {
     "data": {
      "text/html": [
       "<div>\n",
       "<style scoped>\n",
       "    .dataframe tbody tr th:only-of-type {\n",
       "        vertical-align: middle;\n",
       "    }\n",
       "\n",
       "    .dataframe tbody tr th {\n",
       "        vertical-align: top;\n",
       "    }\n",
       "\n",
       "    .dataframe thead th {\n",
       "        text-align: right;\n",
       "    }\n",
       "</style>\n",
       "<table border=\"1\" class=\"dataframe\">\n",
       "  <thead>\n",
       "    <tr style=\"text-align: right;\">\n",
       "      <th></th>\n",
       "      <th>Inside_Out</th>\n",
       "      <th>Cars_1</th>\n",
       "      <th>Walle</th>\n",
       "      <th>Spiderman</th>\n",
       "      <th>Monsters_Inc</th>\n",
       "    </tr>\n",
       "    <tr>\n",
       "      <th>Names</th>\n",
       "      <th></th>\n",
       "      <th></th>\n",
       "      <th></th>\n",
       "      <th></th>\n",
       "      <th></th>\n",
       "    </tr>\n",
       "  </thead>\n",
       "  <tbody>\n",
       "    <tr>\n",
       "      <th>Juan</th>\n",
       "      <td>5.0</td>\n",
       "      <td>5.0</td>\n",
       "      <td>5.0</td>\n",
       "      <td>NaN</td>\n",
       "      <td>3.0</td>\n",
       "    </tr>\n",
       "    <tr>\n",
       "      <th>Jacob</th>\n",
       "      <td>5.0</td>\n",
       "      <td>4.0</td>\n",
       "      <td>5.0</td>\n",
       "      <td>NaN</td>\n",
       "      <td>4.0</td>\n",
       "    </tr>\n",
       "    <tr>\n",
       "      <th>Matthew</th>\n",
       "      <td>5.0</td>\n",
       "      <td>3.0</td>\n",
       "      <td>NaN</td>\n",
       "      <td>3.0</td>\n",
       "      <td>4.0</td>\n",
       "    </tr>\n",
       "    <tr>\n",
       "      <th>Claudia</th>\n",
       "      <td>NaN</td>\n",
       "      <td>4.0</td>\n",
       "      <td>4.0</td>\n",
       "      <td>4.0</td>\n",
       "      <td>4.0</td>\n",
       "    </tr>\n",
       "    <tr>\n",
       "      <th>Luis</th>\n",
       "      <td>4.0</td>\n",
       "      <td>3.0</td>\n",
       "      <td>5.0</td>\n",
       "      <td>5.0</td>\n",
       "      <td>NaN</td>\n",
       "    </tr>\n",
       "  </tbody>\n",
       "</table>\n",
       "</div>"
      ],
      "text/plain": [
       "         Inside_Out  Cars_1  Walle  Spiderman  Monsters_Inc\n",
       "Names                                                      \n",
       "Juan            5.0     5.0    5.0        NaN           3.0\n",
       "Jacob           5.0     4.0    5.0        NaN           4.0\n",
       "Matthew         5.0     3.0    NaN        3.0           4.0\n",
       "Claudia         NaN     4.0    4.0        4.0           4.0\n",
       "Luis            4.0     3.0    5.0        5.0           NaN"
      ]
     },
     "execution_count": 38,
     "metadata": {},
     "output_type": "execute_result"
    }
   ],
   "source": [
    "#Changing the Index\n",
    "df.set_index('Names')"
   ]
  },
  {
   "cell_type": "code",
   "execution_count": 39,
   "metadata": {},
   "outputs": [
    {
     "name": "stdout",
     "output_type": "stream",
     "text": [
      "     Names  Inside_Out  Cars_1  Walle  Spiderman  Monsters_Inc  mean\n",
      "0     Juan         5.0     5.0    5.0        NaN           3.0  4.50\n",
      "1    Jacob         5.0     4.0    5.0        NaN           4.0  4.50\n",
      "2  Matthew         5.0     3.0    NaN        3.0           4.0  3.75\n",
      "3  Claudia         NaN     4.0    4.0        4.0           4.0  4.00\n",
      "4     Luis         4.0     3.0    5.0        5.0           NaN  4.25\n"
     ]
    }
   ],
   "source": [
    "#Average ratings for each user\n",
    "df['mean'] = df.mean(axis=1)\n",
    "print(df)"
   ]
  },
  {
   "cell_type": "code",
   "execution_count": 40,
   "metadata": {},
   "outputs": [
    {
     "data": {
      "text/plain": [
       "Inside_Out      4.75\n",
       "Cars_1          3.80\n",
       "Walle           4.75\n",
       "Spiderman       4.00\n",
       "Monsters_Inc    3.75\n",
       "mean            4.20\n",
       "dtype: float64"
      ]
     },
     "execution_count": 40,
     "metadata": {},
     "output_type": "execute_result"
    }
   ],
   "source": [
    "#Average ratings for each movie\n",
    "df.mean(axis=0)"
   ]
  },
  {
   "cell_type": "code",
   "execution_count": 41,
   "metadata": {},
   "outputs": [
    {
     "data": {
      "text/plain": [
       "<matplotlib.axes._subplots.AxesSubplot at 0x235f410e358>"
      ]
     },
     "execution_count": 41,
     "metadata": {},
     "output_type": "execute_result"
    },
    {
     "data": {
      "image/png": "[encoded data removed]",
      "text/plain": [
       "<Figure size 432x288 with 1 Axes>"
      ]
     },
     "metadata": {
      "needs_background": "light"
     },
     "output_type": "display_data"
    }
   ],
   "source": [
    "# View the unnormalized data\n",
    "data.plot(kind='bar')"
   ]
  },
  {
   "cell_type": "code",
   "execution_count": 42,
   "metadata": {},
   "outputs": [
    {
     "data": {
      "text/plain": [
       "array([[0.57735027, 0.46188022, 0.34641016, 0.46188022, 0.34641016]])"
      ]
     },
     "execution_count": 42,
     "metadata": {},
     "output_type": "execute_result"
    }
   ],
   "source": [
    "# Normalize total_bedrooms column\n",
    "x_array = np.array(df['Cars_1'])\n",
    "normalized_X = preprocessing.normalize([x_array])\n",
    "normalized_X "
   ]
  },
  {
   "cell_type": "code",
   "execution_count": 43,
   "metadata": {},
   "outputs": [
    {
     "name": "stdout",
     "output_type": "stream",
     "text": [
      "[[ 5.  5.  5. nan  3.]\n",
      " [ 5.  4.  5. nan  4.]\n",
      " [ 5.  3. nan  3.  4.]\n",
      " [nan  4.  4.  4.  4.]\n",
      " [ 4.  3.  5.  5. nan]]\n"
     ]
    }
   ],
   "source": [
    "# Create x, where x, the column's values as floats\n",
    "x = df[['Inside_Out', 'Cars_1', 'Walle','Spiderman', 'Monsters_Inc']].values.astype(float)\n",
    "print(x)"
   ]
  },
  {
   "cell_type": "code",
   "execution_count": null,
   "metadata": {},
   "outputs": [],
   "source": []
  }
 ],
 "metadata": {
  "kernelspec": {
   "display_name": "Python 3",
   "language": "python",
   "name": "python3"
  },
  "language_info": {
   "codemirror_mode": {
    "name": "ipython",
    "version": 3
   },
   "file_extension": ".py",
   "mimetype": "text/x-python",
   "name": "python",
   "nbconvert_exporter": "python",
   "pygments_lexer": "ipython3",
   "version": "3.7.3"
  }
 },
 "nbformat": 4,
 "nbformat_minor": 2
}
